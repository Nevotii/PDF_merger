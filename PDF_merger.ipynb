{
 "cells": [
  {
   "cell_type": "code",
   "execution_count": 3,
   "metadata": {},
   "outputs": [
    {
     "name": "stdout",
     "output_type": "stream",
     "text": [
      "0 []\n",
      "The final order is:\n",
      "[]\n",
      "Do you want to proceed? y/n\n"
     ]
    },
    {
     "name": "stdin",
     "output_type": "stream",
     "text": [
      " y\n"
     ]
    },
    {
     "name": "stdout",
     "output_type": "stream",
     "text": [
      "Name of the new file?\n"
     ]
    },
    {
     "name": "stdin",
     "output_type": "stream",
     "text": [
      " \n"
     ]
    },
    {
     "name": "stdout",
     "output_type": "stream",
     "text": [
      "Your PDF has been successfully merged\n"
     ]
    }
   ],
   "source": [
    "from PyPDF2 import PdfFileMerger\n",
    "import os\n",
    "import re\n",
    "\n",
    "end = True\n",
    "while end:\n",
    "    pdfs = [i for i in os.listdir() if re.search('\\.pdf$', i)]\n",
    "    print(len(pdfs), pdfs)\n",
    "\n",
    "    new_pdf = []\n",
    "    for i in range(len(pdfs)):\n",
    "        print(f'{pdfs[i]} position in the document is:')\n",
    "        order = int(input())-1\n",
    "        if (order == str or order > len(pdfs)):\n",
    "            raise Exception('Stupid give the correct order')\n",
    "        new_pdf.append(pdfs[order])\n",
    "    print(f'The final order is:\\n{new_pdf}')\n",
    "    print('Do you want to proceed? y/n')\n",
    "    if input() == 'y': \n",
    "        end = False\n",
    "    else: \n",
    "        print('Choose the right order this time...')\n",
    "\n",
    "\n",
    "merger = PdfFileMerger()\n",
    "\n",
    "for pdf in pdfs:\n",
    "    merger.append(pdf)\n",
    "    \n",
    "print('Name of the new file?')\n",
    "name = input() + '.pdf'\n",
    "if len(name) == 4: \n",
    "    name = 'merged.pdf'\n",
    "merger.write(name)\n",
    "merger.close()\n",
    "\n",
    "print('Your PDF has been successfully merged')\n",
    "\n"
   ]
  }
 ],
 "metadata": {
  "kernelspec": {
   "display_name": "Python 3",
   "language": "python",
   "name": "python3"
  },
  "language_info": {
   "codemirror_mode": {
    "name": "ipython",
    "version": 3
   },
   "file_extension": ".py",
   "mimetype": "text/x-python",
   "name": "python",
   "nbconvert_exporter": "python",
   "pygments_lexer": "ipython3",
   "version": "3.7.4"
  }
 },
 "nbformat": 4,
 "nbformat_minor": 4
}
